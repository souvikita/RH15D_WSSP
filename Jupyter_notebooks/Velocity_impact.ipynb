{
 "cells": [
  {
   "cell_type": "markdown",
   "id": "b7e2f9f5-cad8-432c-9a97-e08a9a014f10",
   "metadata": {},
   "source": [
    "# Velocity effects on the spectral line shapes\n"
   ]
  },
  {
   "cell_type": "markdown",
   "id": "dd363327-8f80-4317-8f91-39f8d1a0d865",
   "metadata": {},
   "source": [
    "This notebook will show how the velocity in the atmosphere (that can be constant but also variable with height/optical depth), influences the shape of the spectral line.\n",
    "\n",
    "You all are used to the idea that if the object is moving away/towards you, the position of the spectral line will be shifted toward the red or blue. In our approach we would model that by employing a constant velocity throughout the atmosphere.\n",
    "\n",
    "What about a velocity that is variable throughout the atmosphere? I.e. it is low at the bottom of the atmosphere and increases with height? Well we are here to find out!\n",
    "\n",
    "We will follow steps described below:\n",
    "\n",
    "1. Change the input atmosphere and write a new atmosphere file compatible to run with RH1.5D.\n",
    "2. Perform forward modeling. \n",
    "3. Plot and compare the spectra."
   ]
  },
  {
   "cell_type": "code",
   "execution_count": null,
   "id": "0cc53683-3936-4f38-a28f-e292aa3d71a5",
   "metadata": {
    "tags": []
   },
   "outputs": [],
   "source": [
    "##------ Usual package loading -----\n",
    "\n",
    "import matplotlib.pyplot as plt\n",
    "import numpy as np\n",
    "import scipy\n",
    "import xarray as xr\n",
    "from helita.sim import rh15d"
   ]
  },
  {
   "cell_type": "code",
   "execution_count": null,
   "id": "b77397ea-fd0f-4b33-a90c-4a7df7f55960",
   "metadata": {
    "tags": []
   },
   "outputs": [],
   "source": [
    "# Read FAL-C\n",
    "input_atmos = xr.open_dataset('/Users/souvikb/rh/Atmos/FALC_82_5x5.hdf5')\n",
    "input_atmos"
   ]
  },
  {
   "cell_type": "code",
   "execution_count": null,
   "id": "5e84944a-4802-4a5f-97e7-826729fb1080",
   "metadata": {
    "tags": []
   },
   "outputs": [],
   "source": [
    "# Plot the velocity of the input:\n",
    "\n",
    "plt.plot(input_atmos.z[0,:]/1e6,input_atmos.velocity_z[0,1,1,:]/1e3)\n",
    "plt.ylabel('V_z [km/s]')\n",
    "plt.xlabel('Height [Mm]')\n",
    "plt.title('FAL-C vertical velocity')"
   ]
  },
  {
   "cell_type": "code",
   "execution_count": null,
   "id": "97e1675d-158f-4011-bda0-98c7a2dc9531",
   "metadata": {
    "tags": []
   },
   "outputs": [],
   "source": [
    "##--------- Temporarily modifying the velocity. We just add a constant velocity of 5 km/s--------#\n",
    "\n",
    "# temp_v=input_atmos.velocity_z[0,:,:,:]\n",
    "for row in range(5):\n",
    "    for col in range(5):\n",
    "        input_atmos.velocity_z[0,row,col,:] = 5000.00 ## Brute force!\n",
    "        "
   ]
  },
  {
   "cell_type": "code",
   "execution_count": null,
   "id": "8a8f3031-d277-4b17-86f7-1c13d122696e",
   "metadata": {
    "tags": []
   },
   "outputs": [],
   "source": [
    "plt.plot(input_atmos.z[0,:]/1e6,input_atmos.velocity_z[0,1,1,:]/1e3)\n",
    "plt.ylabel('V_z [km/s]')\n",
    "plt.xlabel('Height [Mm]')\n",
    "plt.title('FAL-C modified vertical velocity')"
   ]
  },
  {
   "cell_type": "code",
   "execution_count": null,
   "id": "87a7b3b0-8532-4afb-819a-5d11b6d27a73",
   "metadata": {
    "tags": []
   },
   "outputs": [],
   "source": [
    "####---- write a new modified FAL-C atmosphere by updating the velocity from above ------###\n",
    "\n",
    "input_atmos.to_netcdf('/Users/souvikb/rh/Atmos/FALC_const.hdf5',format='NETCDF4')"
   ]
  },
  {
   "cell_type": "markdown",
   "id": "59f08fda-8a48-4e96-ab99-18a4360a4193",
   "metadata": {},
   "source": [
    "## Run RH.."
   ]
  },
  {
   "cell_type": "code",
   "execution_count": null,
   "id": "090c4681-f19d-435e-a97d-8838a68222f3",
   "metadata": {
    "tags": []
   },
   "outputs": [],
   "source": [
    "# Reading the output after synthesizing with the newly made atmosphere. \n",
    "ray_new = xr.open_dataset('/Users/souvikb/rh/rh15d/run/output/output_ray.hdf5')\n",
    "ray_old = xr.open_dataset('/Users/souvikb/rh/rh15d/run/output/output_ray_NLTE.hdf5')\n",
    "ray_old.intensity.plot(color='red',label='0 km/s')\n",
    "ray_new.intensity.plot(label='5 km/s')\n",
    "plt.title(r'H$\\alpha$ spectral line')\n",
    "plt.xlim([656.12,656.46])\n",
    "plt.axvline(x=656.28,ls='--')\n",
    "plt.grid('on')\n",
    "plt.legend(loc='best')"
   ]
  },
  {
   "cell_type": "markdown",
   "id": "a8d58586-c932-4702-ae39-6176bffb6ccd",
   "metadata": {
    "tags": []
   },
   "source": [
    "## N.B. RH1.5D treats positive velocity as upflow"
   ]
  },
  {
   "cell_type": "markdown",
   "id": "679bec46-28bf-4b9a-9314-d5b4964c0f43",
   "metadata": {},
   "source": [
    "# Now let us do something a bit more complicated, a gradient in the velocity going from 25 km/s at the top, to 0 km/s at the bottom."
   ]
  },
  {
   "cell_type": "code",
   "execution_count": null,
   "id": "0aa71f3f-fa3b-4bb0-b59c-5fe673013f74",
   "metadata": {
    "tags": []
   },
   "outputs": [],
   "source": [
    "# Read original FAL-C hdf5 atmosphere again.\n",
    "# Read FAL-C\n",
    "input_atmos_2 = xr.open_dataset('/Users/souvikb/rh/Atmos/FALC_82_5x5.hdf5')\n",
    "input_atmos_2"
   ]
  },
  {
   "cell_type": "code",
   "execution_count": null,
   "id": "c53aeadf-44f6-4cc5-89bb-a54a5886fa40",
   "metadata": {
    "tags": []
   },
   "outputs": [],
   "source": [
    "# Plot the velocity of the input:\n",
    "\n",
    "plt.plot(input_atmos.z[0,:]/1e6,input_atmos_2.velocity_z[0,1,1,:]/1e3)\n",
    "plt.ylabel('V_z [km/s]')\n",
    "plt.xlabel('Height [Mm]')\n",
    "plt.title('FAL-C vertical velocity')"
   ]
  },
  {
   "cell_type": "code",
   "execution_count": null,
   "id": "ffae251f-093d-447d-9f18-209a13a4f869",
   "metadata": {
    "tags": []
   },
   "outputs": [],
   "source": [
    "##----- Writing the new atmosphere ------##\n",
    "\n",
    "# for row in range(5):\n",
    "#     for col in range(5):\n",
    "#         input_atmos.velocity_z[0,row,col,:] = 5000.00 ## Brute force!\n",
    "v_test = 25*1e3 + -25.*1e3*np.linspace(0,81,82)/81.0\n",
    "plt.plot(input_atmos_2.velocity_z[0,0,0,:]/1e3)\n",
    "plt.ylabel('V_z [km/s]')\n",
    "plt.xlabel('Height [Mm]')\n",
    "plt.title('Stratfied velocity gradient')"
   ]
  },
  {
   "cell_type": "code",
   "execution_count": null,
   "id": "d3c53699-efd7-4bda-bdd2-17d12760d4ab",
   "metadata": {
    "tags": []
   },
   "outputs": [],
   "source": [
    "## --- Now we want to write this velocity instead of the original (0) velocity in FALC and save it in a new file\n",
    "\n",
    "for row in range(5):\n",
    "    for col in range(5):\n",
    "        input_atmos_2.velocity_z[0,row,col,:] = 25.*1e3 + -25.*1e3*np.linspace(0,81,82)/81.0\n",
    "\n",
    "\n",
    "input_atmos_2.to_netcdf('/Users/souvikb/rh/Atmos/FALC_gradient.hdf5',format='NETCDF4')"
   ]
  },
  {
   "cell_type": "markdown",
   "id": "b65c91bd-dc8d-4e52-b622-5411808fcfba",
   "metadata": {},
   "source": [
    "## Run RH"
   ]
  },
  {
   "cell_type": "code",
   "execution_count": null,
   "id": "de63b7d4-3a6b-409f-96a7-9c9703fac8b6",
   "metadata": {
    "tags": []
   },
   "outputs": [],
   "source": [
    "# Reading the output after synthesizing with the newly made atmosphere. \n",
    "ray_const = xr.open_dataset('/Users/souvikb/rh/rh15d/run/output/output_ray_v_const.hdf5')\n",
    "ray_zero = xr.open_dataset('/Users/souvikb/rh/rh15d/run/output/output_ray_NLTE.hdf5')\n",
    "ray_grad = xr.open_dataset('/Users/souvikb/rh/rh15d/run/output/output_ray_v_grad.hdf5')\n",
    "\n",
    "ray_zero.intensity.plot(color='red',label='0 km/s')\n",
    "ray_const.intensity.plot(label='5 km/s')\n",
    "ray_grad.intensity.plot(label='gradient')\n",
    "plt.title(r'H$\\alpha$ spectral line')\n",
    "plt.xlim([656.12,656.46])\n",
    "plt.axvline(x=656.28,ls='--')\n",
    "plt.grid('on')\n",
    "plt.legend(loc='best')"
   ]
  },
  {
   "cell_type": "markdown",
   "id": "d5b63786-b9bb-44a6-8dea-a641acfdb91a",
   "metadata": {},
   "source": [
    "## What can you conclude when from these three spectral lines? "
   ]
  },
  {
   "cell_type": "code",
   "execution_count": null,
   "id": "64a63bec-698a-4ff2-914c-cf5d19d8f874",
   "metadata": {},
   "outputs": [],
   "source": []
  }
 ],
 "metadata": {
  "kernelspec": {
   "display_name": "Python 3 (ipykernel)",
   "language": "python",
   "name": "python3"
  },
  "language_info": {
   "codemirror_mode": {
    "name": "ipython",
    "version": 3
   },
   "file_extension": ".py",
   "mimetype": "text/x-python",
   "name": "python",
   "nbconvert_exporter": "python",
   "pygments_lexer": "ipython3",
   "version": "3.9.6"
  }
 },
 "nbformat": 4,
 "nbformat_minor": 5
}
